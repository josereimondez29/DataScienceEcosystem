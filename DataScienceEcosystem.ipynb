{
 "cells": [
  {
   "cell_type": "markdown",
   "id": "8c88391c-503b-472c-ae91-82495ae16618",
   "metadata": {},
   "source": [
    "# Data Science Tools and Ecosystem"
   ]
  },
  {
   "cell_type": "markdown",
   "id": "70a29ead-43c8-4e97-a515-03be2c7721fa",
   "metadata": {},
   "source": [
    "In this notebook, Data Science Tools and Ecosystem are summarized."
   ]
  },
  {
   "cell_type": "markdown",
   "id": "451ce73d-5284-43de-8df3-b06ed82ea169",
   "metadata": {},
   "source": [
    "Some of the popular languages that Data Scientists use are:\n",
    "\n",
    "1. Python\n",
    "2. R\n",
    "3. SQL\n",
    "4. Julia\n",
    "5. Scala"
   ]
  },
  {
   "cell_type": "markdown",
   "id": "c18ba9ef-2ba3-4a3c-9e4a-40214f5f3d02",
   "metadata": {},
   "source": [
    "Some of the commonly used libraries used by Data Scientists include:\n",
    "\n",
    "1. NumPy\n",
    "2. Pandas\n",
    "3. Matplotlib\n",
    "4. Scikit-Learn\n",
    "5. TensorFlow\n",
    "6. Keras\n"
   ]
  },
  {
   "cell_type": "markdown",
   "id": "df3d1ac2-c5a8-450f-86b3-2b6881d2b0c5",
   "metadata": {},
   "source": [
    "Data Science Tools"
   ]
  },
  {
   "cell_type": "markdown",
   "id": "7a20a8e9-666e-4201-9b90-b5c089763441",
   "metadata": {},
   "source": [
    "Jupyter Notebook         \n",
    "RStudio                  \n",
    "Apache Zeppelin"
   ]
  },
  {
   "cell_type": "markdown",
   "id": "4c68fd86-bd92-4918-b1b6-f3ed4fc6cd72",
   "metadata": {},
   "source": [
    "### Below are a few examples of evaluating arithmetic expressions in Python"
   ]
  },
  {
   "cell_type": "code",
   "execution_count": 13,
   "id": "01d1f064-6a6a-42b0-a358-419da48522e1",
   "metadata": {},
   "outputs": [
    {
     "data": {
      "text/plain": [
       "17"
      ]
     },
     "execution_count": 13,
     "metadata": {},
     "output_type": "execute_result"
    }
   ],
   "source": [
    "#This a simple arithmetic expression to mutiply then add integers\n",
    "(3*4)+5"
   ]
  },
  {
   "cell_type": "code",
   "execution_count": 15,
   "id": "0b4823f5-ecb0-412d-95ba-f00af370091e",
   "metadata": {},
   "outputs": [
    {
     "data": {
      "text/plain": [
       "3.3333333333333335"
      ]
     },
     "execution_count": 15,
     "metadata": {},
     "output_type": "execute_result"
    }
   ],
   "source": [
    "# This will convert 200 minutes to hours by dividing by 60\n",
    "200 / 60\n"
   ]
  },
  {
   "cell_type": "markdown",
   "id": "6cbecd9d-c34f-43dd-977e-63874baf34b9",
   "metadata": {},
   "source": [
    "**Objectives:**\n",
    "\n",
    "- List popular languages for Data Science\n",
    "- Identify commonly used libraries in Data Science\n",
    "- Explore development environment tools for Data Science\n",
    "- Practice evaluating arithmetic expressions in Python\n",
    "- Convert units, such as minutes to hours, using Python expressions\n"
   ]
  },
  {
   "cell_type": "markdown",
   "id": "a2043118-8e94-47e2-b194-ff2fa68ef228",
   "metadata": {},
   "source": [
    "## Author\n",
    "\n",
    "Jose Reimondez\n"
   ]
  },
  {
   "cell_type": "code",
   "execution_count": null,
   "id": "190b9f9f-a7b8-40d5-959a-3d3c359076a2",
   "metadata": {},
   "outputs": [],
   "source": []
  }
 ],
 "metadata": {
  "kernelspec": {
   "display_name": "Python 3 (ipykernel)",
   "language": "python",
   "name": "python3"
  },
  "language_info": {
   "codemirror_mode": {
    "name": "ipython",
    "version": 3
   },
   "file_extension": ".py",
   "mimetype": "text/x-python",
   "name": "python",
   "nbconvert_exporter": "python",
   "pygments_lexer": "ipython3",
   "version": "3.12.4"
  }
 },
 "nbformat": 4,
 "nbformat_minor": 5
}
